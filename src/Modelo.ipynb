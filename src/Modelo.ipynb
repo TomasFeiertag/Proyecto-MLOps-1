{
 "cells": [
  {
   "cell_type": "code",
   "execution_count": 2,
   "metadata": {},
   "outputs": [
    {
     "name": "stdout",
     "output_type": "stream",
     "text": [
      "['Napoleon', 'There Will Be Blood', 'The Devil Came on Horseback', 'Blade Runner', 'Tomorrow']\n"
     ]
    }
   ],
   "source": [
    "import pandas as pd\n",
    "from sklearn.feature_extraction.text import TfidfVectorizer\n",
    "from sklearn.metrics.pairwise import linear_kernel\n",
    "\n",
    "# Cargar los datasets\n",
    "movies_df = pd.read_csv('data/movies_dataset_transformed.csv')\n",
    "filtered_credits_df = pd.read_csv('data/filtered_credits.csv')\n",
    "\n",
    "def recomendacion(titulo):\n",
    "    # Convertir el título de la película a minúsculas para hacer la búsqueda insensible a mayúsculas\n",
    "    titulo = titulo.lower()\n",
    "    \n",
    "    # Normalizar los títulos en el dataframe\n",
    "    movies_df['title_lower'] = movies_df['title'].str.lower()\n",
    "    \n",
    "    # Buscar la película en el DataFrame\n",
    "    if titulo not in movies_df['title_lower'].values:\n",
    "        return \"La película no se encuentra en el dataset.\"\n",
    "    \n",
    "    # Obtener el puntaje de la película de entrada\n",
    "    pelicula = movies_df[movies_df['title_lower'] == titulo].iloc[0]\n",
    "    puntuacion_pelicula = pelicula['vote_average']\n",
    "    \n",
    "    # Calcular la similitud basada en el puntaje\n",
    "    movies_df['similarity'] = abs(movies_df['vote_average'] - puntuacion_pelicula)\n",
    "    \n",
    "    # Obtener las 5 películas más similares (ordenadas por la menor diferencia en puntuación)\n",
    "    similares = movies_df.sort_values(by='similarity').head(6)  # Incluye la propia película\n",
    "    similares = similares[similares['title_lower'] != titulo]  # Excluir la propia película\n",
    "    top_similares = similares.head(5)  # Obtener las 5 más similares\n",
    "    \n",
    "    # Devolver una lista con los nombres de las películas recomendadas\n",
    "    return top_similares['title'].tolist()\n",
    "\n",
    "# Ejemplo de uso\n",
    "print(recomendacion(\"Sherlock Holmes and Dr. Watson: Acquaintance\"))\n",
    "\n"
   ]
  },
  {
   "cell_type": "code",
   "execution_count": null,
   "metadata": {},
   "outputs": [],
   "source": []
  }
 ],
 "metadata": {
  "kernelspec": {
   "display_name": "Python 3",
   "language": "python",
   "name": "python3"
  },
  "language_info": {
   "codemirror_mode": {
    "name": "ipython",
    "version": 3
   },
   "file_extension": ".py",
   "mimetype": "text/x-python",
   "name": "python",
   "nbconvert_exporter": "python",
   "pygments_lexer": "ipython3",
   "version": "3.12.4"
  }
 },
 "nbformat": 4,
 "nbformat_minor": 2
}
