{
 "cells": [
  {
   "cell_type": "markdown",
   "metadata": {},
   "source": [
    "### Transformacion de Movies"
   ]
  },
  {
   "cell_type": "code",
   "execution_count": 5,
   "metadata": {},
   "outputs": [],
   "source": [
    "# Carga y limpieza del dataset\n",
    "# Importación de librerías necesarias\n",
    "import pandas as pd\n",
    "df = pd.read_csv('../movies_dataset.csv', low_memory=False)"
   ]
  },
  {
   "cell_type": "code",
   "execution_count": 6,
   "metadata": {},
   "outputs": [
    {
     "name": "stdout",
     "output_type": "stream",
     "text": [
      "0    [{'id': 16, 'name': 'Animation'}, {'id': 35, '...\n",
      "1    [{'id': 12, 'name': 'Adventure'}, {'id': 14, '...\n",
      "2    [{'id': 10749, 'name': 'Romance'}, {'id': 35, ...\n",
      "3    [{'id': 35, 'name': 'Comedy'}, {'id': 18, 'nam...\n",
      "4                       [{'id': 35, 'name': 'Comedy'}]\n",
      "Name: genres, dtype: object\n",
      "0       [{'name': 'Pixar Animation Studios', 'id': 3}]\n",
      "1    [{'name': 'TriStar Pictures', 'id': 559}, {'na...\n",
      "2    [{'name': 'Warner Bros.', 'id': 6194}, {'name'...\n",
      "3    [{'name': 'Twentieth Century Fox Film Corporat...\n",
      "4    [{'name': 'Sandollar Productions', 'id': 5842}...\n",
      "Name: production_companies, dtype: object\n"
     ]
    }
   ],
   "source": [
    "# Verificar la correcta combinación de datos\n",
    "# Visualizo unas de las primeras columnas anidadas\n",
    "print(df['genres'].head())\n",
    "print(df['production_companies'].head())"
   ]
  },
  {
   "cell_type": "code",
   "execution_count": 7,
   "metadata": {},
   "outputs": [],
   "source": [
    "# Importación de librerías necesarias\n",
    "import ast\n",
    "\n",
    "# Transformo las columnas anidadas a sus estructuras correspondiente\n",
    "df['belongs_to_collection'] = df['belongs_to_collection'].apply(lambda x: ast.literal_eval(x) if pd.notnull(x) else {})\n",
    "df['genres'] = df['genres'].apply(lambda x: ast.literal_eval(x) if pd.notnull(x) else [])\n",
    "df['production_companies'] = df['production_companies'].apply(lambda x: ast.literal_eval(x) if pd.notnull(x) else [])\n",
    "df['production_countries'] = df['production_countries'].apply(lambda x: ast.literal_eval(x) if pd.notnull(x) else [])\n",
    "df['spoken_languages'] = df['spoken_languages'].apply(lambda x: ast.literal_eval(x) if pd.notnull(x) else [])\n"
   ]
  },
  {
   "cell_type": "code",
   "execution_count": 8,
   "metadata": {},
   "outputs": [],
   "source": [
    "\n",
    "# Convierto los valores de texto a diccionarios donde sea necesario\n",
    "def convert_to_dict(x):\n",
    "    try:\n",
    "        if pd.notnull(x) and isinstance(x, str) and len(x) > 0:\n",
    "            return ast.literal_eval(x)\n",
    "        else:\n",
    "            return {}\n",
    "    except (ValueError, SyntaxError):\n",
    "        return {}\n",
    "\n",
    "# Aplico la función de conversión a la columna\n",
    "df['belongs_to_collection'] = df['belongs_to_collection'].apply(convert_to_dict)\n",
    "\n",
    "# Luego, extraigo los valores de interés asegurándote de que x es un diccionario\n",
    "df['collection_id'] = df['belongs_to_collection'].apply(lambda x: x.get('id') if isinstance(x, dict) else None)\n",
    "df['collection_name'] = df['belongs_to_collection'].apply(lambda x: x.get('name') if isinstance(x, dict) else None)\n",
    "df['collection_poster_path'] = df['belongs_to_collection'].apply(lambda x: x.get('poster_path') if isinstance(x, dict) else None)"
   ]
  },
  {
   "cell_type": "code",
   "execution_count": 9,
   "metadata": {},
   "outputs": [],
   "source": [
    "# Desanidamos 'genres' para obetener una lista de generos como una cadena separada por comas\n",
    "df['genres'] = df['genres'].apply(lambda x: ', '.join([genre['name'] for genre in x]) if x else None)"
   ]
  },
  {
   "cell_type": "code",
   "execution_count": 10,
   "metadata": {},
   "outputs": [],
   "source": [
    "# Desanidamos 'production_companies' para obtener los nombres de las compañias productoras\n",
    "df['production_companies'] = df['production_companies'].apply(lambda x: ', '.join([company['name'] for company in x]) if x else None)\n"
   ]
  },
  {
   "cell_type": "code",
   "execution_count": 11,
   "metadata": {},
   "outputs": [
    {
     "name": "stdout",
     "output_type": "stream",
     "text": [
      "0    United States of America\n",
      "1    United States of America\n",
      "2    United States of America\n",
      "3    United States of America\n",
      "4    United States of America\n",
      "Name: production_countries, dtype: object\n"
     ]
    }
   ],
   "source": [
    "# Verificar la correcta combinación de datos\n",
    "# Importación de librerías necesarias\n",
    "import numpy as np\n",
    "# Función para convertir los valores de texto a listas de diccionarios\n",
    "def convert_to_list(x):\n",
    "    if isinstance(x, (np.ndarray, list)):  # Verifica si es un array o lista\n",
    "        return x\n",
    "    if pd.isna(x):  # Verifica si es NaN\n",
    "        return []\n",
    "    if isinstance(x, str) and x.strip():  # Verifica que sea una cadena no vacía\n",
    "        try:\n",
    "            return ast.literal_eval(x)  # Convierte el texto en una lista\n",
    "        except (ValueError, SyntaxError):\n",
    "            return []  # Devuelve una lista vacía si hay error en la conversión\n",
    "    return []  # Devuelve una lista vacía si no cumple las condiciones anteriores\n",
    "\n",
    "# Aplico la función para convertir los valores de la columna 'production_countries'\n",
    "df['production_countries'] = df['production_countries'].apply(convert_to_list)\n",
    "\n",
    "# Función para desanidar la lista de diccionarios en una cadena de nombres\n",
    "def desanidar_lista(x):\n",
    "    if isinstance(x, list):\n",
    "        return ', '.join([country.get('name', '') for country in x])  # Usa .get() para evitar KeyError\n",
    "    return ''  # Devuelve una cadena vacía si no es una lista\n",
    "\n",
    "# Aplico la función para desanidar\n",
    "df['production_countries'] = df['production_countries'].apply(desanidar_lista)\n",
    "\n",
    "# Muestro las primeras filas para verificar\n",
    "print(df['production_countries'].head())\n"
   ]
  },
  {
   "cell_type": "code",
   "execution_count": 12,
   "metadata": {},
   "outputs": [],
   "source": [
    "# Y por ultimo, desanidamos el campo 'spoken_lenguages' para obetener la lista de idiomas\n",
    "df['spoken_languages'] = df['spoken_languages'].apply(lambda x: ', '.join([language['name'] for language in x]) if x else None)"
   ]
  },
  {
   "cell_type": "code",
   "execution_count": 13,
   "metadata": {},
   "outputs": [],
   "source": [
    "# Convierto la columna release_date al formato de fecha\n",
    "df['release_date'] = pd.to_datetime(df['release_date'], errors='coerce')\n",
    "\n",
    "# Creo la columna release_year a partir de release_date\n",
    "df['release_year'] = df['release_date'].dt.year\n",
    "\n",
    "# Convierto release_year a int\n",
    "df['release_year'] = df['release_year'].astype('Int32')  # Usa 'Int32' para manejar valores NA\n"
   ]
  },
  {
   "cell_type": "code",
   "execution_count": 14,
   "metadata": {},
   "outputs": [
    {
     "name": "stdout",
     "output_type": "stream",
     "text": [
      "       revenue      budget     return\n",
      "0  373554033.0  30000000.0  12.451801\n",
      "1  262797249.0  65000000.0   4.043035\n",
      "2          0.0         0.0   0.000000\n",
      "3   81452156.0  16000000.0   5.090760\n",
      "4   76578911.0         0.0   0.000000\n"
     ]
    }
   ],
   "source": [
    "# Verificar la correcta combinación de datos\n",
    "# Convertir las columnas 'revenue' y 'budget' a numérico, forzando valores no válidos a NaN\n",
    "df['revenue'] = pd.to_numeric(df['revenue'], errors='coerce')\n",
    "df['budget'] = pd.to_numeric(df['budget'], errors='coerce')\n",
    "\n",
    "# Reemplazar NaN con 0 (sin usar inplace)\n",
    "df['revenue'] = df['revenue'].fillna(0)\n",
    "df['budget'] = df['budget'].fillna(0)\n",
    "\n",
    "# Crear la columna 'return' calculando el retorno\n",
    "df['return'] = df.apply(lambda row: row['revenue'] / row['budget'] if row['revenue'] > 0 and row['budget'] > 0 else 0, axis=1)\n",
    "\n",
    "# Verificar la nueva columna\n",
    "print(df[['revenue', 'budget', 'return']].head())\n"
   ]
  },
  {
   "cell_type": "code",
   "execution_count": 15,
   "metadata": {},
   "outputs": [
    {
     "name": "stdout",
     "output_type": "stream",
     "text": [
      "  belongs_to_collection      budget                      genres     id  \\\n",
      "0                    {}  30000000.0   Animation, Comedy, Family    862   \n",
      "1                    {}  65000000.0  Adventure, Fantasy, Family   8844   \n",
      "2                    {}         0.0             Romance, Comedy  15602   \n",
      "3                    {}  16000000.0      Comedy, Drama, Romance  31357   \n",
      "4                    {}         0.0                      Comedy  11862   \n",
      "\n",
      "  original_language                                           overview  \\\n",
      "0                en  Led by Woody, Andy's toys live happily in his ...   \n",
      "1                en  When siblings Judy and Peter discover an encha...   \n",
      "2                en  A family wedding reignites the ancient feud be...   \n",
      "3                en  Cheated on, mistreated and stepped on, the wom...   \n",
      "4                en  Just when George Banks has recovered from his ...   \n",
      "\n",
      "  popularity                               production_companies  \\\n",
      "0  21.946943                            Pixar Animation Studios   \n",
      "1  17.015539  TriStar Pictures, Teitler Film, Interscope Com...   \n",
      "2    11.7129                       Warner Bros., Lancaster Gate   \n",
      "3   3.859495             Twentieth Century Fox Film Corporation   \n",
      "4   8.387519         Sandollar Productions, Touchstone Pictures   \n",
      "\n",
      "       production_countries release_date  ...    status  \\\n",
      "0  United States of America   1995-10-30  ...  Released   \n",
      "1  United States of America   1995-12-15  ...  Released   \n",
      "2  United States of America   1995-12-22  ...  Released   \n",
      "3  United States of America   1995-12-22  ...  Released   \n",
      "4  United States of America   1995-02-10  ...  Released   \n",
      "\n",
      "                                             tagline  \\\n",
      "0                                                NaN   \n",
      "1          Roll the dice and unleash the excitement!   \n",
      "2  Still Yelling. Still Fighting. Still Ready for...   \n",
      "3  Friends are the people who let you be yourself...   \n",
      "4  Just When His World Is Back To Normal... He's ...   \n",
      "\n",
      "                         title vote_average vote_count collection_id  \\\n",
      "0                    Toy Story          7.7     5415.0          None   \n",
      "1                      Jumanji          6.9     2413.0          None   \n",
      "2             Grumpier Old Men          6.5       92.0          None   \n",
      "3            Waiting to Exhale          6.1       34.0          None   \n",
      "4  Father of the Bride Part II          5.7      173.0          None   \n",
      "\n",
      "   collection_name  collection_poster_path release_year     return  \n",
      "0             None                    None         1995  12.451801  \n",
      "1             None                    None         1995   4.043035  \n",
      "2             None                    None         1995   0.000000  \n",
      "3             None                    None         1995   5.090760  \n",
      "4             None                    None         1995   0.000000  \n",
      "\n",
      "[5 rows x 23 columns]\n"
     ]
    }
   ],
   "source": [
    "# Verificar la correcta combinación de datos\n",
    "# Elimino las columnas no utlizadas\n",
    "df = df.drop(columns=['video', 'imdb_id', 'adult', 'original_title', 'poster_path', 'homepage'])\n",
    "\n",
    "# Verifico que las columnas se hayan eliminado\n",
    "print(df.head())  # Muestra las primeras filas del DataFrame para confirmar\n"
   ]
  },
  {
   "cell_type": "code",
   "execution_count": 16,
   "metadata": {},
   "outputs": [
    {
     "name": "stdout",
     "output_type": "stream",
     "text": [
      "  belongs_to_collection      budget                      genres     id  \\\n",
      "0                    {}  30000000.0   Animation, Comedy, Family    862   \n",
      "1                    {}  65000000.0  Adventure, Fantasy, Family   8844   \n",
      "2                    {}         0.0             Romance, Comedy  15602   \n",
      "3                    {}  16000000.0      Comedy, Drama, Romance  31357   \n",
      "4                    {}         0.0                      Comedy  11862   \n",
      "\n",
      "  original_language                                           overview  \\\n",
      "0                en  Led by Woody, Andy's toys live happily in his ...   \n",
      "1                en  When siblings Judy and Peter discover an encha...   \n",
      "2                en  A family wedding reignites the ancient feud be...   \n",
      "3                en  Cheated on, mistreated and stepped on, the wom...   \n",
      "4                en  Just when George Banks has recovered from his ...   \n",
      "\n",
      "  popularity                               production_companies  \\\n",
      "0  21.946943                            Pixar Animation Studios   \n",
      "1  17.015539  TriStar Pictures, Teitler Film, Interscope Com...   \n",
      "2    11.7129                       Warner Bros., Lancaster Gate   \n",
      "3   3.859495             Twentieth Century Fox Film Corporation   \n",
      "4   8.387519         Sandollar Productions, Touchstone Pictures   \n",
      "\n",
      "       production_countries release_date  ...    status  \\\n",
      "0  United States of America   1995-10-30  ...  Released   \n",
      "1  United States of America   1995-12-15  ...  Released   \n",
      "2  United States of America   1995-12-22  ...  Released   \n",
      "3  United States of America   1995-12-22  ...  Released   \n",
      "4  United States of America   1995-02-10  ...  Released   \n",
      "\n",
      "                                             tagline  \\\n",
      "0                                                NaN   \n",
      "1          Roll the dice and unleash the excitement!   \n",
      "2  Still Yelling. Still Fighting. Still Ready for...   \n",
      "3  Friends are the people who let you be yourself...   \n",
      "4  Just When His World Is Back To Normal... He's ...   \n",
      "\n",
      "                         title vote_average vote_count collection_id  \\\n",
      "0                    Toy Story          7.7     5415.0          None   \n",
      "1                      Jumanji          6.9     2413.0          None   \n",
      "2             Grumpier Old Men          6.5       92.0          None   \n",
      "3            Waiting to Exhale          6.1       34.0          None   \n",
      "4  Father of the Bride Part II          5.7      173.0          None   \n",
      "\n",
      "   collection_name  collection_poster_path release_year     return  \n",
      "0             None                    None         1995  12.451801  \n",
      "1             None                    None         1995   4.043035  \n",
      "2             None                    None         1995   0.000000  \n",
      "3             None                    None         1995   5.090760  \n",
      "4             None                    None         1995   0.000000  \n",
      "\n",
      "[5 rows x 23 columns]\n",
      "Index(['belongs_to_collection', 'budget', 'genres', 'id', 'original_language',\n",
      "       'overview', 'popularity', 'production_companies',\n",
      "       'production_countries', 'release_date', 'revenue', 'runtime',\n",
      "       'spoken_languages', 'status', 'tagline', 'title', 'vote_average',\n",
      "       'vote_count', 'collection_id', 'collection_name',\n",
      "       'collection_poster_path', 'release_year', 'return'],\n",
      "      dtype='object')\n"
     ]
    }
   ],
   "source": [
    "# Verificar la correcta combinación de datos\n",
    "#Verifico como esta quedando mi dataframe\n",
    "print(df.head())\n",
    "print(df.columns)"
   ]
  },
  {
   "cell_type": "code",
   "execution_count": 17,
   "metadata": {},
   "outputs": [
    {
     "name": "stdout",
     "output_type": "stream",
     "text": [
      "belongs_to_collection             object\n",
      "budget                           float64\n",
      "genres                            object\n",
      "id                                object\n",
      "original_language                 object\n",
      "overview                          object\n",
      "popularity                       float64\n",
      "production_companies              object\n",
      "production_countries              object\n",
      "release_date              datetime64[ns]\n",
      "revenue                          float64\n",
      "runtime                          float64\n",
      "spoken_languages                  object\n",
      "status                            object\n",
      "tagline                           object\n",
      "title                             object\n",
      "vote_average                     float64\n",
      "vote_count                       float64\n",
      "collection_id                      int32\n",
      "collection_name                   object\n",
      "collection_poster_path            object\n",
      "release_year                       Int32\n",
      "return                           float64\n",
      "dtype: object\n"
     ]
    }
   ],
   "source": [
    "# Verificar la correcta combinación de datos\n",
    "# Convierto 'popularity' en un float\n",
    "df['popularity'] = pd.to_numeric(df['popularity'], errors='coerce')\n",
    "\n",
    "# Convierto 'collection_id' en un int\n",
    "df['collection_id'] = pd.to_numeric(df['collection_id'], errors='coerce').fillna(0).astype('int32')\n",
    "\n",
    "# Verificamos que todos nuestros tipos de datos esten correctos\n",
    "print(df.dtypes)"
   ]
  },
  {
   "cell_type": "markdown",
   "metadata": {},
   "source": [
    "### Transformacion de credits"
   ]
  },
  {
   "cell_type": "code",
   "execution_count": 18,
   "metadata": {},
   "outputs": [
    {
     "name": "stderr",
     "output_type": "stream",
     "text": [
      "Exception ignored in: <bound method IPythonKernel._clean_thread_parent_frames of <ipykernel.ipkernel.IPythonKernel object at 0x000002E515445A60>>\n",
      "Traceback (most recent call last):\n",
      "  File \"C:\\Users\\tomas\\AppData\\Roaming\\Python\\Python312\\site-packages\\ipykernel\\ipkernel.py\", line 790, in _clean_thread_parent_frames\n",
      "    active_threads = {thread.ident for thread in threading.enumerate()}\n",
      "                                                 ^^^^^^^^^^^^^^^^^^^^^\n",
      "  File \"c:\\Users\\tomas\\AppData\\Local\\Programs\\Python\\Python312\\Lib\\threading.py\", line 1533, in enumerate\n",
      "    def enumerate():\n",
      "    \n",
      "KeyboardInterrupt: \n"
     ]
    }
   ],
   "source": [
    "# Importación de librerías necesarias\n",
    "import ast\n",
    "\n",
    "# Cargar el archivo CSV\n",
    "df2 = pd.read_csv('../credits.csv')\n",
    "\n",
    "# Función para extraer los nombres de los actores\n",
    "def extract_actor_names(cast_data):\n",
    "    if isinstance(cast_data, str):\n",
    "        cast_list = ast.literal_eval(cast_data)\n",
    "        return [actor['name'] for actor in cast_list if 'name' in actor]\n",
    "    return []\n",
    "\n",
    "# Función para extraer el nombre del director\n",
    "def extract_director_name(crew_data):\n",
    "    if isinstance(crew_data, str):\n",
    "        crew_list = ast.literal_eval(crew_data)\n",
    "        for member in crew_list:\n",
    "            if member.get('job') == 'Director':\n",
    "                return member.get('name')\n",
    "    return None\n",
    "\n",
    "# Aplicar las funciones a las columnas 'cast' y 'crew'\n",
    "df2['actor_names'] = df2['cast'].apply(extract_actor_names)\n",
    "df2['director_name'] = df2['crew'].apply(extract_director_name)\n",
    "\n",
    "# Seleccionar solo las columnas relevantes\n",
    "df2_filtered = df2[['id', 'actor_names', 'director_name']]\n",
    "\n",
    "# Guardar el resultado en un nuevo archivo CSV\n",
    "df2_filtered.to_csv('filtered_credits.csv', index=False)\n",
    "\n",
    "# Mostrar las primeras filas para verificar los resultados\n",
    "print(df2_filtered.head())\n"
   ]
  },
  {
   "cell_type": "code",
   "execution_count": null,
   "metadata": {},
   "outputs": [],
   "source": []
  }
 ],
 "metadata": {
  "kernelspec": {
   "display_name": "Python 3",
   "language": "python",
   "name": "python3"
  },
  "language_info": {
   "codemirror_mode": {
    "name": "ipython",
    "version": 3
   },
   "file_extension": ".py",
   "mimetype": "text/x-python",
   "name": "python",
   "nbconvert_exporter": "python",
   "pygments_lexer": "ipython3",
   "version": "3.12.4"
  }
 },
 "nbformat": 4,
 "nbformat_minor": 2
}
